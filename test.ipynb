{
 "cells": [
  {
   "cell_type": "code",
   "execution_count": null,
   "metadata": {},
   "outputs": [],
   "source": [
    "import pandas as pd\n",
    "import mysql.connector as conn\n",
    "\n",
    "try:\n",
    "    mydb = conn.connect(host = \"app.lagoonmed.eu\",database=\"gp\",user=\"root\",password=\"P@xtibi2021!\")\n",
    "    mf = pd.read_sql(\"select * from gps\",mydb)\n",
    "except Exception as e:\n",
    "    print(e)\n",
    "\n",
    "mydb.close()\n"
   ]
  }
 ],
 "metadata": {
  "kernelspec": {
   "display_name": "Python 3",
   "language": "python",
   "name": "python3"
  },
  "language_info": {
   "name": "python",
   "version": "3.9.12"
  },
  "orig_nbformat": 4
 },
 "nbformat": 4,
 "nbformat_minor": 2
}
